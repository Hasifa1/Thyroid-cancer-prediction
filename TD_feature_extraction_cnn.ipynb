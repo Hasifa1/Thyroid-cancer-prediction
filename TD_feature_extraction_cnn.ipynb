{
  "nbformat": 4,
  "nbformat_minor": 0,
  "metadata": {
    "colab": {
      "provenance": [],
      "gpuType": "T4",
      "mount_file_id": "1NTvUlgRFbE6sWJjHSy-46SDt7_edeFuv",
      "authorship_tag": "ABX9TyMXfaTvdMuwAdGSKmLgv8HT",
      "include_colab_link": true
    },
    "kernelspec": {
      "name": "python3",
      "display_name": "Python 3"
    },
    "language_info": {
      "name": "python"
    },
    "accelerator": "GPU"
  },
  "cells": [
    {
      "cell_type": "markdown",
      "metadata": {
        "id": "view-in-github",
        "colab_type": "text"
      },
      "source": [
        "<a href=\"https://colab.research.google.com/github/Hasifa1/Thyroid-cancer-prediction/blob/main/TD_feature_extraction_cnn.ipynb\" target=\"_parent\"><img src=\"https://colab.research.google.com/assets/colab-badge.svg\" alt=\"Open In Colab\"/></a>"
      ]
    },
    {
      "cell_type": "code",
      "source": [
        "# Set random seed for reproducibility\n",
        "np.random.seed(42)\n",
        "tf.random.set_seed(42)"
      ],
      "metadata": {
        "id": "oZ771nl2FeM3"
      },
      "execution_count": null,
      "outputs": []
    },
    {
      "cell_type": "code",
      "source": [
        "import numpy as np\n",
        "import tensorflow as tf\n",
        "from tensorflow.keras.preprocessing.image import ImageDataGenerator\n",
        "from sklearn.linear_model import LogisticRegression\n",
        "from sklearn.metrics import classification_report, confusion_matrix"
      ],
      "metadata": {
        "id": "IPskPav9FchO"
      },
      "execution_count": null,
      "outputs": []
    },
    {
      "cell_type": "code",
      "source": [
        "\n",
        "# Define paths to your image dataset for malign, benign, and normal cases\n",
        "malignant_path = '/content/drive/MyDrive/dataset_thyroid/malign'\n",
        "benign_path = '/content/drive/MyDrive/dataset_thyroid/benign'\n",
        "normal_path = '/content/drive/MyDrive/dataset_thyroid/normal'"
      ],
      "metadata": {
        "id": "dq4Ioe8iFf1B"
      },
      "execution_count": null,
      "outputs": []
    },
    {
      "cell_type": "code",
      "source": [
        "\n",
        "# Create data generators\n",
        "datagen = ImageDataGenerator(rescale=1./255, validation_split=0.2)\n"
      ],
      "metadata": {
        "id": "xj3mcz9VFiM_"
      },
      "execution_count": null,
      "outputs": []
    },
    {
      "cell_type": "code",
      "source": [
        "\n",
        "# Load and split the data\n",
        "train_generator = datagen.flow_from_directory(\n",
        "    '/content/drive/MyDrive/dataset_thyroid',\n",
        "    target_size=(224, 224),\n",
        "    batch_size=32,\n",
        "    class_mode='categorical',  # Make sure to use categorical mode for one-hot encoding\n",
        "    subset='training'\n",
        ")\n",
        "\n",
        "validation_generator = datagen.flow_from_directory(\n",
        "    '/content/drive/MyDrive/dataset_thyroid',\n",
        "    target_size=(224, 224),\n",
        "    batch_size=32,\n",
        "    class_mode='categorical',\n",
        "    subset='validation'\n",
        ")"
      ],
      "metadata": {
        "colab": {
          "base_uri": "https://localhost:8080/"
        },
        "id": "zPG77kqwFkux",
        "outputId": "f1ff8589-8ed0-47cc-e582-773e669728d8"
      },
      "execution_count": null,
      "outputs": [
        {
          "output_type": "stream",
          "name": "stdout",
          "text": [
            "Found 1287 images belonging to 3 classes.\n",
            "Found 320 images belonging to 3 classes.\n"
          ]
        }
      ]
    },
    {
      "cell_type": "code",
      "source": [
        "\n",
        "# Extract features using a pre-trained model (e.g., VGG16)\n",
        "base_model = tf.keras.applications.VGG16(weights='imagenet', include_top=False, input_shape=(224, 224, 3))\n",
        "\n",
        "# Freeze the convolutional base\n",
        "base_model.trainable = False\n",
        "\n",
        "# Create logistic regression model on top\n",
        "model = tf.keras.Sequential([\n",
        "    base_model,\n",
        "    tf.keras.layers.GlobalAveragePooling2D(),\n",
        "    tf.keras.layers.Dense(3, activation='softmax')  # 3 classes: Malignant, Benign, Normal\n",
        "])\n"
      ],
      "metadata": {
        "colab": {
          "base_uri": "https://localhost:8080/"
        },
        "id": "PYpxxNtOFnlo",
        "outputId": "bddf2873-e715-43b8-b98c-b138e94c0583"
      },
      "execution_count": null,
      "outputs": [
        {
          "output_type": "stream",
          "name": "stdout",
          "text": [
            "Downloading data from https://storage.googleapis.com/tensorflow/keras-applications/vgg16/vgg16_weights_tf_dim_ordering_tf_kernels_notop.h5\n",
            "58889256/58889256 [==============================] - 4s 0us/step\n"
          ]
        }
      ]
    },
    {
      "cell_type": "code",
      "source": [
        "# Compile the model\n",
        "model.compile(optimizer='adam', loss='categorical_crossentropy', metrics=['accuracy'])\n"
      ],
      "metadata": {
        "id": "lko95BiIFq-e"
      },
      "execution_count": null,
      "outputs": []
    },
    {
      "cell_type": "code",
      "source": [
        "# Train the model\n",
        "model.fit(train_generator, epochs=10, validation_data=validation_generator)\n"
      ],
      "metadata": {
        "colab": {
          "base_uri": "https://localhost:8080/"
        },
        "id": "rvAemyTFFujC",
        "outputId": "e0104eb4-fc70-45d7-fd44-b51538ce5148"
      },
      "execution_count": null,
      "outputs": [
        {
          "output_type": "stream",
          "name": "stdout",
          "text": [
            "Epoch 1/10\n",
            "41/41 [==============================] - 1140s 28s/step - loss: 0.9886 - accuracy: 0.4654 - val_loss: 0.9181 - val_accuracy: 0.5125\n",
            "Epoch 2/10\n",
            "41/41 [==============================] - 9s 230ms/step - loss: 0.9256 - accuracy: 0.5136 - val_loss: 0.9095 - val_accuracy: 0.4062\n",
            "Epoch 3/10\n",
            "41/41 [==============================] - 10s 236ms/step - loss: 0.9126 - accuracy: 0.5198 - val_loss: 0.8884 - val_accuracy: 0.4156\n",
            "Epoch 4/10\n",
            "41/41 [==============================] - 10s 239ms/step - loss: 0.9009 - accuracy: 0.5260 - val_loss: 0.8671 - val_accuracy: 0.4187\n",
            "Epoch 5/10\n",
            "41/41 [==============================] - 9s 222ms/step - loss: 0.8954 - accuracy: 0.5291 - val_loss: 0.8703 - val_accuracy: 0.4125\n",
            "Epoch 6/10\n",
            "41/41 [==============================] - 9s 227ms/step - loss: 0.8927 - accuracy: 0.5245 - val_loss: 0.8482 - val_accuracy: 0.4750\n",
            "Epoch 7/10\n",
            "41/41 [==============================] - 10s 231ms/step - loss: 0.8860 - accuracy: 0.5338 - val_loss: 0.8474 - val_accuracy: 0.4406\n",
            "Epoch 8/10\n",
            "41/41 [==============================] - 9s 206ms/step - loss: 0.8791 - accuracy: 0.5416 - val_loss: 0.8381 - val_accuracy: 0.4344\n",
            "Epoch 9/10\n",
            "41/41 [==============================] - 9s 228ms/step - loss: 0.8778 - accuracy: 0.5284 - val_loss: 0.8102 - val_accuracy: 0.5781\n",
            "Epoch 10/10\n",
            "41/41 [==============================] - 10s 231ms/step - loss: 0.8755 - accuracy: 0.5587 - val_loss: 0.7998 - val_accuracy: 0.5750\n"
          ]
        },
        {
          "output_type": "execute_result",
          "data": {
            "text/plain": [
              "<keras.src.callbacks.History at 0x7b4bf3fa84f0>"
            ]
          },
          "metadata": {},
          "execution_count": 8
        }
      ]
    },
    {
      "cell_type": "code",
      "source": [
        "# Extract features for logistic regression\n",
        "train_features = model.predict(train_generator)\n",
        "validation_features = model.predict(validation_generator)\n"
      ],
      "metadata": {
        "colab": {
          "base_uri": "https://localhost:8080/"
        },
        "id": "ab2MIHL0Fw_8",
        "outputId": "4cb52b29-45e6-444b-9ad5-04be5908020b"
      },
      "execution_count": null,
      "outputs": [
        {
          "output_type": "stream",
          "name": "stdout",
          "text": [
            "41/41 [==============================] - 7s 169ms/step\n",
            "10/10 [==============================] - 2s 174ms/step\n"
          ]
        }
      ]
    },
    {
      "cell_type": "code",
      "source": [
        "# Flatten the features\n",
        "train_features_flat = train_features.reshape((train_features.shape[0], -1))\n",
        "validation_features_flat = validation_features.reshape((validation_features.shape[0], -1))"
      ],
      "metadata": {
        "id": "OVXDxh-7F1Lr"
      },
      "execution_count": null,
      "outputs": []
    },
    {
      "cell_type": "code",
      "execution_count": null,
      "metadata": {
        "colab": {
          "base_uri": "https://localhost:8080/"
        },
        "id": "zZ0Rf7K8EEHP",
        "outputId": "ad693456-c00a-4c73-b5cf-404153ac7197"
      },
      "outputs": [
        {
          "output_type": "stream",
          "name": "stdout",
          "text": [
            "              precision    recall  f1-score   support\n",
            "\n",
            "           0       0.00      0.00      0.00       126\n",
            "           1       0.50      1.00      0.67       160\n",
            "           2       0.00      0.00      0.00        34\n",
            "\n",
            "    accuracy                           0.50       320\n",
            "   macro avg       0.17      0.33      0.22       320\n",
            "weighted avg       0.25      0.50      0.33       320\n",
            "\n",
            "[[  0 126   0]\n",
            " [  0 160   0]\n",
            " [  0  34   0]]\n"
          ]
        },
        {
          "output_type": "stream",
          "name": "stderr",
          "text": [
            "/usr/local/lib/python3.10/dist-packages/sklearn/metrics/_classification.py:1344: UndefinedMetricWarning: Precision and F-score are ill-defined and being set to 0.0 in labels with no predicted samples. Use `zero_division` parameter to control this behavior.\n",
            "  _warn_prf(average, modifier, msg_start, len(result))\n",
            "/usr/local/lib/python3.10/dist-packages/sklearn/metrics/_classification.py:1344: UndefinedMetricWarning: Precision and F-score are ill-defined and being set to 0.0 in labels with no predicted samples. Use `zero_division` parameter to control this behavior.\n",
            "  _warn_prf(average, modifier, msg_start, len(result))\n",
            "/usr/local/lib/python3.10/dist-packages/sklearn/metrics/_classification.py:1344: UndefinedMetricWarning: Precision and F-score are ill-defined and being set to 0.0 in labels with no predicted samples. Use `zero_division` parameter to control this behavior.\n",
            "  _warn_prf(average, modifier, msg_start, len(result))\n"
          ]
        }
      ],
      "source": [
        "\n",
        "# Create logistic regression model\n",
        "logistic_regression_model = LogisticRegression(max_iter=1000)\n",
        "\n",
        "# Train the logistic regression model\n",
        "logistic_regression_model.fit(train_features_flat, train_generator.classes)\n",
        "\n",
        "# Evaluate the logistic regression model\n",
        "logistic_regression_predictions = logistic_regression_model.predict(validation_features_flat)\n",
        "\n",
        "# Print classification report and confusion matrix\n",
        "print(classification_report(validation_generator.classes, logistic_regression_predictions))\n",
        "print(confusion_matrix(validation_generator.classes, logistic_regression_predictions))\n"
      ]
    },
    {
      "cell_type": "code",
      "source": [
        "from sklearn.metrics import classification_report, confusion_matrix, accuracy_score"
      ],
      "metadata": {
        "id": "jW8ejdD_Mdd3"
      },
      "execution_count": null,
      "outputs": []
    },
    {
      "cell_type": "code",
      "source": [
        "accuracy = accuracy_score(validation_generator.classes, logistic_regression_predictions)\n",
        "# Print classification report, confusion matrix, and accuracy\n",
        "print(classification_report(validation_generator.classes, logistic_regression_predictions))\n",
        "print(confusion_matrix(validation_generator.classes, logistic_regression_predictions))\n",
        "print(f'Accuracy: {accuracy * 100:.2f}%')"
      ],
      "metadata": {
        "colab": {
          "base_uri": "https://localhost:8080/"
        },
        "id": "yp8F3819Fbtf",
        "outputId": "179792da-6e8f-4c4c-c3ce-293457fefd2e"
      },
      "execution_count": null,
      "outputs": [
        {
          "output_type": "stream",
          "name": "stdout",
          "text": [
            "              precision    recall  f1-score   support\n",
            "\n",
            "           0       0.00      0.00      0.00       126\n",
            "           1       0.50      1.00      0.67       160\n",
            "           2       0.00      0.00      0.00        34\n",
            "\n",
            "    accuracy                           0.50       320\n",
            "   macro avg       0.17      0.33      0.22       320\n",
            "weighted avg       0.25      0.50      0.33       320\n",
            "\n",
            "[[  0 126   0]\n",
            " [  0 160   0]\n",
            " [  0  34   0]]\n",
            "Accuracy: 50.00%\n"
          ]
        },
        {
          "output_type": "stream",
          "name": "stderr",
          "text": [
            "/usr/local/lib/python3.10/dist-packages/sklearn/metrics/_classification.py:1344: UndefinedMetricWarning: Precision and F-score are ill-defined and being set to 0.0 in labels with no predicted samples. Use `zero_division` parameter to control this behavior.\n",
            "  _warn_prf(average, modifier, msg_start, len(result))\n",
            "/usr/local/lib/python3.10/dist-packages/sklearn/metrics/_classification.py:1344: UndefinedMetricWarning: Precision and F-score are ill-defined and being set to 0.0 in labels with no predicted samples. Use `zero_division` parameter to control this behavior.\n",
            "  _warn_prf(average, modifier, msg_start, len(result))\n",
            "/usr/local/lib/python3.10/dist-packages/sklearn/metrics/_classification.py:1344: UndefinedMetricWarning: Precision and F-score are ill-defined and being set to 0.0 in labels with no predicted samples. Use `zero_division` parameter to control this behavior.\n",
            "  _warn_prf(average, modifier, msg_start, len(result))\n"
          ]
        }
      ]
    },
    {
      "cell_type": "code",
      "source": [],
      "metadata": {
        "id": "_vDO5MHYMYwS"
      },
      "execution_count": null,
      "outputs": []
    }
  ]
}